{
  "nbformat": 4,
  "nbformat_minor": 0,
  "metadata": {
    "colab": {
      "provenance": []
    },
    "kernelspec": {
      "name": "python3",
      "display_name": "Python 3"
    },
    "language_info": {
      "name": "python"
    }
  },
  "cells": [
    {
      "cell_type": "code",
      "source": [
        "import streamlit as st\n",
        "import tensorflow as tf\n",
        "import numpy as np\n",
        "from tensorflow.keras.preprocessing import image\n",
        "import pandas as pd\n",
        "\n",
        "# Load the model\n",
        "plant_model = tf.keras.models.load_model('custom_plant_model.h5')\n",
        "disease_classes = ['Apple_healthy', 'Tomato_early_blight', 'Potato_late_blight']  # Full list of 38 classes\n",
        "\n",
        "st.title(\"Custom Plant Health Analyzer\")\n",
        "st.sidebar.header(\"Settings\")\n",
        "conf_threshold = st.sidebar.slider(\"Confidence Threshold (%)\", 0, 100, 50)\n",
        "\n",
        "uploaded_img = st.file_uploader(\"Choose a leaf image\", type=[\"jpg\", \"png\", \"jpeg\"])\n",
        "\n",
        "if uploaded_img is not None:\n",
        "    progress = st.progress(0)\n",
        "    img = image.load_img(uploaded_img, target_size=(224, 224))\n",
        "    st.image(img, caption=\"Your Uploaded Image\", use_column_width=True)\n",
        "\n",
        "    img_array = image.img_to_array(img) / 255.0\n",
        "    img_array = np.expand_dims(img_array, axis=0)\n",
        "\n",
        "    progress.progress(50)  # Simulate loading\n",
        "    prediction_scores = plant_model.predict(img_array)[0]\n",
        "    progress.progress(100)\n",
        "\n",
        "    # Filter and display results in a table\n",
        "    filtered_results = [(disease_classes[i], score * 100) for i, score in enumerate(prediction_scores) if score * 100 >= conf_threshold]\n",
        "    if filtered_results:\n",
        "        df = pd.DataFrame(filtered_results, columns=[\"Disease\", \"Confidence (%)\"])\n",
        "        st.table(df.sort_values(by=\"Confidence (%)\", ascending=False))\n",
        "    else:\n",
        "        st.write(\"No predictions above the confidence threshold.\")\n"
      ],
      "metadata": {
        "id": "BXXwmcf1eZSz"
      },
      "execution_count": null,
      "outputs": []
    }
  ]
}