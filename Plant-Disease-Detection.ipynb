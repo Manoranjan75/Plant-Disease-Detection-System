{
  "nbformat": 4,
  "nbformat_minor": 0,
  "metadata": {
    "colab": {
      "provenance": []
    },
    "kernelspec": {
      "name": "python3",
      "display_name": "Python 3"
    },
    "language_info": {
      "name": "python"
    }
  },
  "cells": [
    {
      "cell_type": "code",
      "source": [
        "# Training Code\n",
        "import tensorflow as tf\n",
        "from tensorflow.keras.preprocessing.image import ImageDataGenerator\n",
        "from tensorflow.keras.models import Sequential\n",
        "from tensorflow.keras.layers import Conv2D, MaxPooling2D, Flatten, Dense, Dropout\n",
        "from tensorflow.keras.callbacks import EarlyStopping\n",
        "\n",
        "# Define dataset directories (replace with your actual paths)\n",
        "training_path = 'path/to/plantvillage/train'\n",
        "validation_path = 'path/to/plantvillage/validation'\n",
        "\n",
        "# Enhanced data augmentation for better generalization\n",
        "train_augmentor = ImageDataGenerator(\n",
        "    rescale=1./255,\n",
        "    rotation_range=25,\n",
        "    width_shift_range=0.15,\n",
        "    height_shift_range=0.15,\n",
        "    shear_range=0.2,\n",
        "    zoom_range=0.2,\n",
        "    horizontal_flip=True,\n",
        "    fill_mode='nearest'\n",
        ")\n",
        "val_augmentor = ImageDataGenerator(rescale=1./255)\n",
        "\n",
        "train_data = train_augmentor.flow_from_directory(training_path, target_size=(224, 224), batch_size=64, class_mode='categorical')\n",
        "val_data = val_augmentor.flow_from_directory(validation_path, target_size=(224, 224), batch_size=64, class_mode='categorical')\n",
        "\n",
        "# Modified CNN architecture with an extra layer\n",
        "disease_model = Sequential([\n",
        "    Conv2D(32, (3,3), activation='relu', input_shape=(224, 224, 3)),\n",
        "    MaxPooling2D(2,2),\n",
        "    Conv2D(64, (3,3), activation='relu'),\n",
        "    MaxPooling2D(2,2),\n",
        "    Conv2D(128, (3,3), activation='relu'),  # Added layer for deeper feature extraction\n",
        "    MaxPooling2D(2,2),\n",
        "    Flatten(),\n",
        "    Dense(256, activation='relu'),\n",
        "    Dropout(0.3),  # Adjusted dropout\n",
        "    Dense(38, activation='softmax')  # Output for 38 classes\n",
        "])\n",
        "\n",
        "disease_model.compile(optimizer='adam', loss='categorical_crossentropy', metrics=['accuracy'])\n",
        "\n",
        "# Early stopping to avoid overfitting\n",
        "stop_early = EarlyStopping(monitor='val_loss', patience=5, restore_best_weights=True)\n",
        "\n",
        "# Train with modified epochs and callbacks\n",
        "training_history = disease_model.fit(train_data, epochs=25, validation_data=val_data, callbacks=[stop_early])\n",
        "\n",
        "# Save the trained model\n",
        "disease_model.save('custom_plant_model.h5')\n"
      ],
      "metadata": {
        "id": "6MiMn3E7e_sk"
      },
      "execution_count": null,
      "outputs": []
    },
    {
      "cell_type": "code",
      "source": [
        "# Testing code\n",
        "import tensorflow as tf\n",
        "import numpy as np\n",
        "from tensorflow.keras.preprocessing import image\n",
        "\n",
        "# Load the custom model\n",
        "loaded_model = tf.keras.models.load_model('custom_plant_model.h5')\n",
        "\n",
        "# Sample class labels (expand to all 38 from your dataset)\n",
        "disease_classes = ['Apple_healthy', 'Tomato_early_blight', 'Potato_late_blight']  # Add all classes here\n",
        "\n",
        "# Function for prediction with top-3 results\n",
        "def predict_disease(img_path, use_grayscale=False):\n",
        "    img = image.load_img(img_path, target_size=(224, 224), color_mode='grayscale' if use_grayscale else 'rgb')\n",
        "    img_tensor = image.img_to_array(img) / 255.0\n",
        "    img_tensor = np.expand_dims(img_tensor, axis=0)\n",
        "\n",
        "    preds = loaded_model.predict(img_tensor)[0]\n",
        "    top_indices = np.argsort(preds)[-3:][::-1]  # Get top 3 predictions\n",
        "    results = [(disease_classes[i], preds[i] * 100) for i in top_indices]\n",
        "\n",
        "    return results\n",
        "\n",
        "# Example usage\n",
        "test_img = 'path/to/sample_leaf.jpg'\n",
        "predictions = predict_disease(test_img)\n",
        "for label, confidence in predictions:\n",
        "    print(f\"{label}: {confidence:.2f}% confidence\")\n"
      ],
      "metadata": {
        "id": "XJwQuPXGfEx4"
      },
      "execution_count": null,
      "outputs": []
    }
  ]
}